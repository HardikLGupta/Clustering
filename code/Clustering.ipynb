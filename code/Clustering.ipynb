{
 "cells": [
  {
   "cell_type": "markdown",
   "metadata": {},
   "source": [
    "# <center> Agglomerative Clustering"
   ]
  },
  {
   "cell_type": "markdown",
   "metadata": {},
   "source": [
    "## Import required packages"
   ]
  },
  {
   "cell_type": "code",
   "execution_count": 1,
   "metadata": {},
   "outputs": [],
   "source": [
    "import pandas as pd\n",
    "import numpy as np\n",
    "\n",
    "from sklearn import preprocessing\n",
    "from sklearn.metrics import pairwise\n",
    "from scipy.spatial.distance import pdist, squareform\n",
    "from sklearn import metrics\n",
    "\n",
    "from scipy.cluster.hierarchy import dendrogram, linkage, fcluster\n",
    "from sklearn.cluster import KMeans\n",
    "\n",
    "%matplotlib inline\n",
    "import matplotlib.pylab as plt\n",
    "import seaborn as sns\n",
    "from pandas.plotting import parallel_coordinates\n",
    "\n",
    "# To print multiple outputs together\n",
    "from IPython.core.interactiveshell import InteractiveShell\n",
    "InteractiveShell.ast_node_interactivity = \"all\"\n",
    "pd.set_option('display.max_columns', 50)"
   ]
  },
  {
   "cell_type": "markdown",
   "metadata": {},
   "source": [
    "## Read Dataset"
   ]
  },
  {
   "cell_type": "markdown",
   "metadata": {},
   "source": [
    "### Load Data"
   ]
  },
  {
   "cell_type": "code",
   "execution_count": 2,
   "metadata": {
    "scrolled": false
   },
   "outputs": [
    {
     "data": {
      "text/plain": [
       "(25, 8)"
      ]
     },
     "execution_count": 2,
     "metadata": {},
     "output_type": "execute_result"
    },
    {
     "data": {
      "text/html": [
       "<div>\n",
       "<style scoped>\n",
       "    .dataframe tbody tr th:only-of-type {\n",
       "        vertical-align: middle;\n",
       "    }\n",
       "\n",
       "    .dataframe tbody tr th {\n",
       "        vertical-align: top;\n",
       "    }\n",
       "\n",
       "    .dataframe thead th {\n",
       "        text-align: right;\n",
       "    }\n",
       "</style>\n",
       "<table border=\"1\" class=\"dataframe\">\n",
       "  <thead>\n",
       "    <tr style=\"text-align: right;\">\n",
       "      <th></th>\n",
       "      <th>Univ</th>\n",
       "      <th>State</th>\n",
       "      <th>SAT</th>\n",
       "      <th>Top10</th>\n",
       "      <th>Accept</th>\n",
       "      <th>SFRatio</th>\n",
       "      <th>Expenses</th>\n",
       "      <th>GradRate</th>\n",
       "    </tr>\n",
       "  </thead>\n",
       "  <tbody>\n",
       "    <tr>\n",
       "      <th>0</th>\n",
       "      <td>Brown</td>\n",
       "      <td>RI</td>\n",
       "      <td>1310</td>\n",
       "      <td>89</td>\n",
       "      <td>22</td>\n",
       "      <td>13</td>\n",
       "      <td>22704</td>\n",
       "      <td>94</td>\n",
       "    </tr>\n",
       "    <tr>\n",
       "      <th>1</th>\n",
       "      <td>CalTech</td>\n",
       "      <td>CA</td>\n",
       "      <td>1415</td>\n",
       "      <td>100</td>\n",
       "      <td>25</td>\n",
       "      <td>6</td>\n",
       "      <td>63575</td>\n",
       "      <td>81</td>\n",
       "    </tr>\n",
       "    <tr>\n",
       "      <th>2</th>\n",
       "      <td>CMU</td>\n",
       "      <td>PA</td>\n",
       "      <td>1260</td>\n",
       "      <td>62</td>\n",
       "      <td>59</td>\n",
       "      <td>9</td>\n",
       "      <td>25026</td>\n",
       "      <td>72</td>\n",
       "    </tr>\n",
       "    <tr>\n",
       "      <th>3</th>\n",
       "      <td>Columbia</td>\n",
       "      <td>NY</td>\n",
       "      <td>1310</td>\n",
       "      <td>76</td>\n",
       "      <td>24</td>\n",
       "      <td>12</td>\n",
       "      <td>31510</td>\n",
       "      <td>88</td>\n",
       "    </tr>\n",
       "    <tr>\n",
       "      <th>4</th>\n",
       "      <td>Cornell</td>\n",
       "      <td>NY</td>\n",
       "      <td>1280</td>\n",
       "      <td>83</td>\n",
       "      <td>33</td>\n",
       "      <td>13</td>\n",
       "      <td>21864</td>\n",
       "      <td>90</td>\n",
       "    </tr>\n",
       "  </tbody>\n",
       "</table>\n",
       "</div>"
      ],
      "text/plain": [
       "       Univ State   SAT  Top10  Accept  SFRatio  Expenses  GradRate\n",
       "0     Brown    RI  1310     89      22       13     22704        94\n",
       "1   CalTech    CA  1415    100      25        6     63575        81\n",
       "2       CMU    PA  1260     62      59        9     25026        72\n",
       "3  Columbia    NY  1310     76      24       12     31510        88\n",
       "4   Cornell    NY  1280     83      33       13     21864        90"
      ]
     },
     "execution_count": 2,
     "metadata": {},
     "output_type": "execute_result"
    },
    {
     "data": {
      "text/html": [
       "<div>\n",
       "<style scoped>\n",
       "    .dataframe tbody tr th:only-of-type {\n",
       "        vertical-align: middle;\n",
       "    }\n",
       "\n",
       "    .dataframe tbody tr th {\n",
       "        vertical-align: top;\n",
       "    }\n",
       "\n",
       "    .dataframe thead th {\n",
       "        text-align: right;\n",
       "    }\n",
       "</style>\n",
       "<table border=\"1\" class=\"dataframe\">\n",
       "  <thead>\n",
       "    <tr style=\"text-align: right;\">\n",
       "      <th></th>\n",
       "      <th>SAT</th>\n",
       "      <th>Top10</th>\n",
       "      <th>Accept</th>\n",
       "      <th>SFRatio</th>\n",
       "      <th>Expenses</th>\n",
       "      <th>GradRate</th>\n",
       "    </tr>\n",
       "  </thead>\n",
       "  <tbody>\n",
       "    <tr>\n",
       "      <th>count</th>\n",
       "      <td>25.000000</td>\n",
       "      <td>25.000000</td>\n",
       "      <td>25.000000</td>\n",
       "      <td>25.00000</td>\n",
       "      <td>25.000000</td>\n",
       "      <td>25.000000</td>\n",
       "    </tr>\n",
       "    <tr>\n",
       "      <th>mean</th>\n",
       "      <td>1266.440000</td>\n",
       "      <td>76.480000</td>\n",
       "      <td>39.200000</td>\n",
       "      <td>12.72000</td>\n",
       "      <td>27388.000000</td>\n",
       "      <td>86.720000</td>\n",
       "    </tr>\n",
       "    <tr>\n",
       "      <th>std</th>\n",
       "      <td>108.359771</td>\n",
       "      <td>19.433905</td>\n",
       "      <td>19.727308</td>\n",
       "      <td>4.06735</td>\n",
       "      <td>14424.883165</td>\n",
       "      <td>9.057778</td>\n",
       "    </tr>\n",
       "    <tr>\n",
       "      <th>min</th>\n",
       "      <td>1005.000000</td>\n",
       "      <td>28.000000</td>\n",
       "      <td>14.000000</td>\n",
       "      <td>6.00000</td>\n",
       "      <td>8704.000000</td>\n",
       "      <td>67.000000</td>\n",
       "    </tr>\n",
       "    <tr>\n",
       "      <th>25%</th>\n",
       "      <td>1240.000000</td>\n",
       "      <td>74.000000</td>\n",
       "      <td>24.000000</td>\n",
       "      <td>11.00000</td>\n",
       "      <td>15140.000000</td>\n",
       "      <td>81.000000</td>\n",
       "    </tr>\n",
       "    <tr>\n",
       "      <th>50%</th>\n",
       "      <td>1285.000000</td>\n",
       "      <td>81.000000</td>\n",
       "      <td>36.000000</td>\n",
       "      <td>12.00000</td>\n",
       "      <td>27553.000000</td>\n",
       "      <td>90.000000</td>\n",
       "    </tr>\n",
       "    <tr>\n",
       "      <th>75%</th>\n",
       "      <td>1340.000000</td>\n",
       "      <td>90.000000</td>\n",
       "      <td>50.000000</td>\n",
       "      <td>14.00000</td>\n",
       "      <td>34870.000000</td>\n",
       "      <td>94.000000</td>\n",
       "    </tr>\n",
       "    <tr>\n",
       "      <th>max</th>\n",
       "      <td>1415.000000</td>\n",
       "      <td>100.000000</td>\n",
       "      <td>90.000000</td>\n",
       "      <td>25.00000</td>\n",
       "      <td>63575.000000</td>\n",
       "      <td>97.000000</td>\n",
       "    </tr>\n",
       "  </tbody>\n",
       "</table>\n",
       "</div>"
      ],
      "text/plain": [
       "               SAT       Top10     Accept   SFRatio      Expenses   GradRate\n",
       "count    25.000000   25.000000  25.000000  25.00000     25.000000  25.000000\n",
       "mean   1266.440000   76.480000  39.200000  12.72000  27388.000000  86.720000\n",
       "std     108.359771   19.433905  19.727308   4.06735  14424.883165   9.057778\n",
       "min    1005.000000   28.000000  14.000000   6.00000   8704.000000  67.000000\n",
       "25%    1240.000000   74.000000  24.000000  11.00000  15140.000000  81.000000\n",
       "50%    1285.000000   81.000000  36.000000  12.00000  27553.000000  90.000000\n",
       "75%    1340.000000   90.000000  50.000000  14.00000  34870.000000  94.000000\n",
       "max    1415.000000  100.000000  90.000000  25.00000  63575.000000  97.000000"
      ]
     },
     "execution_count": 2,
     "metadata": {},
     "output_type": "execute_result"
    }
   ],
   "source": [
    "univ_df = pd.read_csv('../data/Universities_Clustering.csv')\n",
    "univ_df.shape\n",
    "univ_df.head()\n",
    "univ_df.describe()"
   ]
  },
  {
   "cell_type": "markdown",
   "metadata": {},
   "source": [
    "### Data PreProcessing"
   ]
  },
  {
   "cell_type": "code",
   "execution_count": 3,
   "metadata": {},
   "outputs": [
    {
     "data": {
      "text/html": [
       "<div>\n",
       "<style scoped>\n",
       "    .dataframe tbody tr th:only-of-type {\n",
       "        vertical-align: middle;\n",
       "    }\n",
       "\n",
       "    .dataframe tbody tr th {\n",
       "        vertical-align: top;\n",
       "    }\n",
       "\n",
       "    .dataframe thead th {\n",
       "        text-align: right;\n",
       "    }\n",
       "</style>\n",
       "<table border=\"1\" class=\"dataframe\">\n",
       "  <thead>\n",
       "    <tr style=\"text-align: right;\">\n",
       "      <th></th>\n",
       "      <th>SAT</th>\n",
       "      <th>Top10</th>\n",
       "      <th>Accept</th>\n",
       "      <th>SFRatio</th>\n",
       "      <th>Expenses</th>\n",
       "      <th>GradRate</th>\n",
       "    </tr>\n",
       "    <tr>\n",
       "      <th>Univ</th>\n",
       "      <th></th>\n",
       "      <th></th>\n",
       "      <th></th>\n",
       "      <th></th>\n",
       "      <th></th>\n",
       "      <th></th>\n",
       "    </tr>\n",
       "  </thead>\n",
       "  <tbody>\n",
       "    <tr>\n",
       "      <th>Brown</th>\n",
       "      <td>1310.0</td>\n",
       "      <td>89.0</td>\n",
       "      <td>22.0</td>\n",
       "      <td>13.0</td>\n",
       "      <td>22704.0</td>\n",
       "      <td>94.0</td>\n",
       "    </tr>\n",
       "    <tr>\n",
       "      <th>CalTech</th>\n",
       "      <td>1415.0</td>\n",
       "      <td>100.0</td>\n",
       "      <td>25.0</td>\n",
       "      <td>6.0</td>\n",
       "      <td>63575.0</td>\n",
       "      <td>81.0</td>\n",
       "    </tr>\n",
       "    <tr>\n",
       "      <th>CMU</th>\n",
       "      <td>1260.0</td>\n",
       "      <td>62.0</td>\n",
       "      <td>59.0</td>\n",
       "      <td>9.0</td>\n",
       "      <td>25026.0</td>\n",
       "      <td>72.0</td>\n",
       "    </tr>\n",
       "    <tr>\n",
       "      <th>Columbia</th>\n",
       "      <td>1310.0</td>\n",
       "      <td>76.0</td>\n",
       "      <td>24.0</td>\n",
       "      <td>12.0</td>\n",
       "      <td>31510.0</td>\n",
       "      <td>88.0</td>\n",
       "    </tr>\n",
       "    <tr>\n",
       "      <th>Cornell</th>\n",
       "      <td>1280.0</td>\n",
       "      <td>83.0</td>\n",
       "      <td>33.0</td>\n",
       "      <td>13.0</td>\n",
       "      <td>21864.0</td>\n",
       "      <td>90.0</td>\n",
       "    </tr>\n",
       "  </tbody>\n",
       "</table>\n",
       "</div>"
      ],
      "text/plain": [
       "             SAT  Top10  Accept  SFRatio  Expenses  GradRate\n",
       "Univ                                                        \n",
       "Brown     1310.0   89.0    22.0     13.0   22704.0      94.0\n",
       "CalTech   1415.0  100.0    25.0      6.0   63575.0      81.0\n",
       "CMU       1260.0   62.0    59.0      9.0   25026.0      72.0\n",
       "Columbia  1310.0   76.0    24.0     12.0   31510.0      88.0\n",
       "Cornell   1280.0   83.0    33.0     13.0   21864.0      90.0"
      ]
     },
     "execution_count": 3,
     "metadata": {},
     "output_type": "execute_result"
    }
   ],
   "source": [
    "univ_df.set_index('Univ', inplace=True)\n",
    "univ_df.drop(['State'], axis=1, inplace=True)\n",
    "\n",
    "# while not required, the conversion of integer data to float will avoid a warning when \n",
    "# applying the scale function\n",
    "univ_df = univ_df.apply(lambda x: x.astype('float64'))\n",
    "univ_df.head()"
   ]
  },
  {
   "cell_type": "markdown",
   "metadata": {},
   "source": [
    "### Distance Between Two Universities"
   ]
  },
  {
   "cell_type": "code",
   "execution_count": 4,
   "metadata": {
    "scrolled": false
   },
   "outputs": [
    {
     "data": {
      "text/html": [
       "<div>\n",
       "<style scoped>\n",
       "    .dataframe tbody tr th:only-of-type {\n",
       "        vertical-align: middle;\n",
       "    }\n",
       "\n",
       "    .dataframe tbody tr th {\n",
       "        vertical-align: top;\n",
       "    }\n",
       "\n",
       "    .dataframe thead th {\n",
       "        text-align: right;\n",
       "    }\n",
       "</style>\n",
       "<table border=\"1\" class=\"dataframe\">\n",
       "  <thead>\n",
       "    <tr style=\"text-align: right;\">\n",
       "      <th>Univ</th>\n",
       "      <th>Brown</th>\n",
       "      <th>CalTech</th>\n",
       "      <th>CMU</th>\n",
       "      <th>Columbia</th>\n",
       "      <th>Cornell</th>\n",
       "      <th>Dartmouth</th>\n",
       "      <th>Duke</th>\n",
       "      <th>Georgetown</th>\n",
       "      <th>Harvard</th>\n",
       "      <th>JohnsHopkins</th>\n",
       "      <th>MIT</th>\n",
       "      <th>Northwestern</th>\n",
       "      <th>NotreDame</th>\n",
       "      <th>PennState</th>\n",
       "      <th>Princeton</th>\n",
       "      <th>Purdue</th>\n",
       "      <th>Stanford</th>\n",
       "      <th>TexasA&amp;M</th>\n",
       "      <th>UCBerkeley</th>\n",
       "      <th>UChicago</th>\n",
       "      <th>UMichigan</th>\n",
       "      <th>UPenn</th>\n",
       "      <th>UVA</th>\n",
       "      <th>UWisconsin</th>\n",
       "      <th>Yale</th>\n",
       "    </tr>\n",
       "    <tr>\n",
       "      <th>Univ</th>\n",
       "      <th></th>\n",
       "      <th></th>\n",
       "      <th></th>\n",
       "      <th></th>\n",
       "      <th></th>\n",
       "      <th></th>\n",
       "      <th></th>\n",
       "      <th></th>\n",
       "      <th></th>\n",
       "      <th></th>\n",
       "      <th></th>\n",
       "      <th></th>\n",
       "      <th></th>\n",
       "      <th></th>\n",
       "      <th></th>\n",
       "      <th></th>\n",
       "      <th></th>\n",
       "      <th></th>\n",
       "      <th></th>\n",
       "      <th></th>\n",
       "      <th></th>\n",
       "      <th></th>\n",
       "      <th></th>\n",
       "      <th></th>\n",
       "      <th></th>\n",
       "    </tr>\n",
       "  </thead>\n",
       "  <tbody>\n",
       "    <tr>\n",
       "      <th>Brown</th>\n",
       "      <td>0.000000</td>\n",
       "      <td>40871.139133</td>\n",
       "      <td>2323.097501</td>\n",
       "      <td>8806.011924</td>\n",
       "      <td>840.638448</td>\n",
       "      <td>9458.048160</td>\n",
       "      <td>8881.005180</td>\n",
       "      <td>2578.632002</td>\n",
       "      <td>16821.243176</td>\n",
       "      <td>35987.010976</td>\n",
       "      <td>12166.205777</td>\n",
       "      <td>5348.264952</td>\n",
       "      <td>7582.230081</td>\n",
       "      <td>12521.247861</td>\n",
       "      <td>7516.287315</td>\n",
       "      <td>13641.740175</td>\n",
       "      <td>13746.091190</td>\n",
       "      <td>14002.132802</td>\n",
       "      <td>7564.365671</td>\n",
       "      <td>15676.045579</td>\n",
       "      <td>7235.360254</td>\n",
       "      <td>4849.095070</td>\n",
       "      <td>9355.419980</td>\n",
       "      <td>10849.570360</td>\n",
       "      <td>20810.102787</td>\n",
       "    </tr>\n",
       "    <tr>\n",
       "      <th>CalTech</th>\n",
       "      <td>40871.139133</td>\n",
       "      <td>0.000000</td>\n",
       "      <td>38549.346505</td>\n",
       "      <td>32065.182239</td>\n",
       "      <td>41711.224257</td>\n",
       "      <td>31413.094897</td>\n",
       "      <td>31990.161878</td>\n",
       "      <td>43449.304195</td>\n",
       "      <td>24050.014719</td>\n",
       "      <td>4885.343284</td>\n",
       "      <td>28705.024421</td>\n",
       "      <td>35523.345338</td>\n",
       "      <td>48453.273130</td>\n",
       "      <td>53391.089950</td>\n",
       "      <td>33355.030010</td>\n",
       "      <td>54510.631101</td>\n",
       "      <td>27125.061382</td>\n",
       "      <td>54872.098219</td>\n",
       "      <td>48435.320067</td>\n",
       "      <td>25195.336572</td>\n",
       "      <td>48105.607158</td>\n",
       "      <td>36022.243281</td>\n",
       "      <td>50226.370076</td>\n",
       "      <td>51719.108084</td>\n",
       "      <td>20061.047630</td>\n",
       "    </tr>\n",
       "    <tr>\n",
       "      <th>CMU</th>\n",
       "      <td>2323.097501</td>\n",
       "      <td>38549.346505</td>\n",
       "      <td>0.000000</td>\n",
       "      <td>6484.322787</td>\n",
       "      <td>3162.293630</td>\n",
       "      <td>7136.627425</td>\n",
       "      <td>6559.395475</td>\n",
       "      <td>4900.183976</td>\n",
       "      <td>14499.796412</td>\n",
       "      <td>33665.039329</td>\n",
       "      <td>9844.844488</td>\n",
       "      <td>3026.201910</td>\n",
       "      <td>9904.059319</td>\n",
       "      <td>14842.104568</td>\n",
       "      <td>5195.599773</td>\n",
       "      <td>15962.106722</td>\n",
       "      <td>11424.558241</td>\n",
       "      <td>16323.064142</td>\n",
       "      <td>9886.098624</td>\n",
       "      <td>13354.052082</td>\n",
       "      <td>9556.350977</td>\n",
       "      <td>2527.357315</td>\n",
       "      <td>11677.089920</td>\n",
       "      <td>13170.186293</td>\n",
       "      <td>18488.446068</td>\n",
       "    </tr>\n",
       "    <tr>\n",
       "      <th>Columbia</th>\n",
       "      <td>8806.011924</td>\n",
       "      <td>32065.182239</td>\n",
       "      <td>6484.322787</td>\n",
       "      <td>0.000000</td>\n",
       "      <td>9646.053649</td>\n",
       "      <td>652.860628</td>\n",
       "      <td>77.012986</td>\n",
       "      <td>11384.133740</td>\n",
       "      <td>8015.530675</td>\n",
       "      <td>27181.008315</td>\n",
       "      <td>3360.784581</td>\n",
       "      <td>3458.405991</td>\n",
       "      <td>16388.104070</td>\n",
       "      <td>21326.286831</td>\n",
       "      <td>1291.787521</td>\n",
       "      <td>22446.229773</td>\n",
       "      <td>4940.277017</td>\n",
       "      <td>22807.280614</td>\n",
       "      <td>16370.172327</td>\n",
       "      <td>6870.078529</td>\n",
       "      <td>16040.591697</td>\n",
       "      <td>3957.099822</td>\n",
       "      <td>18161.210505</td>\n",
       "      <td>19654.379995</td>\n",
       "      <td>12004.194767</td>\n",
       "    </tr>\n",
       "    <tr>\n",
       "      <th>Cornell</th>\n",
       "      <td>840.638448</td>\n",
       "      <td>41711.224257</td>\n",
       "      <td>3162.293630</td>\n",
       "      <td>9646.053649</td>\n",
       "      <td>0.000000</td>\n",
       "      <td>10298.183044</td>\n",
       "      <td>9721.067328</td>\n",
       "      <td>1738.227833</td>\n",
       "      <td>17661.421206</td>\n",
       "      <td>36827.011608</td>\n",
       "      <td>13006.389814</td>\n",
       "      <td>6188.035957</td>\n",
       "      <td>6742.053841</td>\n",
       "      <td>11680.806179</td>\n",
       "      <td>8356.568434</td>\n",
       "      <td>12801.217911</td>\n",
       "      <td>14586.227202</td>\n",
       "      <td>13161.709995</td>\n",
       "      <td>6724.145224</td>\n",
       "      <td>16516.013986</td>\n",
       "      <td>6394.905707</td>\n",
       "      <td>5689.004131</td>\n",
       "      <td>8515.187138</td>\n",
       "      <td>10009.075082</td>\n",
       "      <td>21650.217204</td>\n",
       "    </tr>\n",
       "  </tbody>\n",
       "</table>\n",
       "</div>"
      ],
      "text/plain": [
       "Univ             Brown       CalTech           CMU      Columbia  \\\n",
       "Univ                                                               \n",
       "Brown         0.000000  40871.139133   2323.097501   8806.011924   \n",
       "CalTech   40871.139133      0.000000  38549.346505  32065.182239   \n",
       "CMU        2323.097501  38549.346505      0.000000   6484.322787   \n",
       "Columbia   8806.011924  32065.182239   6484.322787      0.000000   \n",
       "Cornell     840.638448  41711.224257   3162.293630   9646.053649   \n",
       "\n",
       "Univ           Cornell     Dartmouth          Duke    Georgetown  \\\n",
       "Univ                                                               \n",
       "Brown       840.638448   9458.048160   8881.005180   2578.632002   \n",
       "CalTech   41711.224257  31413.094897  31990.161878  43449.304195   \n",
       "CMU        3162.293630   7136.627425   6559.395475   4900.183976   \n",
       "Columbia   9646.053649    652.860628     77.012986  11384.133740   \n",
       "Cornell       0.000000  10298.183044   9721.067328   1738.227833   \n",
       "\n",
       "Univ           Harvard  JohnsHopkins           MIT  Northwestern  \\\n",
       "Univ                                                               \n",
       "Brown     16821.243176  35987.010976  12166.205777   5348.264952   \n",
       "CalTech   24050.014719   4885.343284  28705.024421  35523.345338   \n",
       "CMU       14499.796412  33665.039329   9844.844488   3026.201910   \n",
       "Columbia   8015.530675  27181.008315   3360.784581   3458.405991   \n",
       "Cornell   17661.421206  36827.011608  13006.389814   6188.035957   \n",
       "\n",
       "Univ         NotreDame     PennState     Princeton        Purdue  \\\n",
       "Univ                                                               \n",
       "Brown      7582.230081  12521.247861   7516.287315  13641.740175   \n",
       "CalTech   48453.273130  53391.089950  33355.030010  54510.631101   \n",
       "CMU        9904.059319  14842.104568   5195.599773  15962.106722   \n",
       "Columbia  16388.104070  21326.286831   1291.787521  22446.229773   \n",
       "Cornell    6742.053841  11680.806179   8356.568434  12801.217911   \n",
       "\n",
       "Univ          Stanford      TexasA&M    UCBerkeley      UChicago  \\\n",
       "Univ                                                               \n",
       "Brown     13746.091190  14002.132802   7564.365671  15676.045579   \n",
       "CalTech   27125.061382  54872.098219  48435.320067  25195.336572   \n",
       "CMU       11424.558241  16323.064142   9886.098624  13354.052082   \n",
       "Columbia   4940.277017  22807.280614  16370.172327   6870.078529   \n",
       "Cornell   14586.227202  13161.709995   6724.145224  16516.013986   \n",
       "\n",
       "Univ         UMichigan         UPenn           UVA    UWisconsin          Yale  \n",
       "Univ                                                                            \n",
       "Brown      7235.360254   4849.095070   9355.419980  10849.570360  20810.102787  \n",
       "CalTech   48105.607158  36022.243281  50226.370076  51719.108084  20061.047630  \n",
       "CMU        9556.350977   2527.357315  11677.089920  13170.186293  18488.446068  \n",
       "Columbia  16040.591697   3957.099822  18161.210505  19654.379995  12004.194767  \n",
       "Cornell    6394.905707   5689.004131   8515.187138  10009.075082  21650.217204  "
      ]
     },
     "execution_count": 4,
     "metadata": {},
     "output_type": "execute_result"
    }
   ],
   "source": [
    "d = pairwise.pairwise_distances(univ_df, metric='euclidean')\n",
    "pd.DataFrame(d, columns=univ_df.index, index=univ_df.index).head(5)\n",
    "\n",
    "# Another way to calculate distance\n",
    "# pd.DataFrame(squareform(pdist(univ_df, 'euclidean')), index=univ_df.index, columns= univ_df.index).head()"
   ]
  },
  {
   "cell_type": "markdown",
   "metadata": {},
   "source": [
    "### Standardising the Variables"
   ]
  },
  {
   "cell_type": "code",
   "execution_count": 5,
   "metadata": {
    "scrolled": false
   },
   "outputs": [
    {
     "data": {
      "text/html": [
       "<div>\n",
       "<style scoped>\n",
       "    .dataframe tbody tr th:only-of-type {\n",
       "        vertical-align: middle;\n",
       "    }\n",
       "\n",
       "    .dataframe tbody tr th {\n",
       "        vertical-align: top;\n",
       "    }\n",
       "\n",
       "    .dataframe thead th {\n",
       "        text-align: right;\n",
       "    }\n",
       "</style>\n",
       "<table border=\"1\" class=\"dataframe\">\n",
       "  <thead>\n",
       "    <tr style=\"text-align: right;\">\n",
       "      <th></th>\n",
       "      <th>SAT</th>\n",
       "      <th>Top10</th>\n",
       "      <th>Accept</th>\n",
       "      <th>SFRatio</th>\n",
       "      <th>Expenses</th>\n",
       "      <th>GradRate</th>\n",
       "    </tr>\n",
       "    <tr>\n",
       "      <th>Univ</th>\n",
       "      <th></th>\n",
       "      <th></th>\n",
       "      <th></th>\n",
       "      <th></th>\n",
       "      <th></th>\n",
       "      <th></th>\n",
       "    </tr>\n",
       "  </thead>\n",
       "  <tbody>\n",
       "    <tr>\n",
       "      <th>Brown</th>\n",
       "      <td>0.410284</td>\n",
       "      <td>0.657519</td>\n",
       "      <td>-0.889867</td>\n",
       "      <td>0.070260</td>\n",
       "      <td>-0.331413</td>\n",
       "      <td>0.820303</td>\n",
       "    </tr>\n",
       "    <tr>\n",
       "      <th>CalTech</th>\n",
       "      <td>1.399259</td>\n",
       "      <td>1.235212</td>\n",
       "      <td>-0.734657</td>\n",
       "      <td>-1.686251</td>\n",
       "      <td>2.560381</td>\n",
       "      <td>-0.644524</td>\n",
       "    </tr>\n",
       "    <tr>\n",
       "      <th>CMU</th>\n",
       "      <td>-0.060657</td>\n",
       "      <td>-0.760454</td>\n",
       "      <td>1.024382</td>\n",
       "      <td>-0.933460</td>\n",
       "      <td>-0.167121</td>\n",
       "      <td>-1.658634</td>\n",
       "    </tr>\n",
       "    <tr>\n",
       "      <th>Columbia</th>\n",
       "      <td>0.410284</td>\n",
       "      <td>-0.025208</td>\n",
       "      <td>-0.786394</td>\n",
       "      <td>-0.180670</td>\n",
       "      <td>0.291649</td>\n",
       "      <td>0.144229</td>\n",
       "    </tr>\n",
       "    <tr>\n",
       "      <th>Cornell</th>\n",
       "      <td>0.127719</td>\n",
       "      <td>0.342414</td>\n",
       "      <td>-0.320766</td>\n",
       "      <td>0.070260</td>\n",
       "      <td>-0.390846</td>\n",
       "      <td>0.369587</td>\n",
       "    </tr>\n",
       "  </tbody>\n",
       "</table>\n",
       "</div>"
      ],
      "text/plain": [
       "               SAT     Top10    Accept   SFRatio  Expenses  GradRate\n",
       "Univ                                                                \n",
       "Brown     0.410284  0.657519 -0.889867  0.070260 -0.331413  0.820303\n",
       "CalTech   1.399259  1.235212 -0.734657 -1.686251  2.560381 -0.644524\n",
       "CMU      -0.060657 -0.760454  1.024382 -0.933460 -0.167121 -1.658634\n",
       "Columbia  0.410284 -0.025208 -0.786394 -0.180670  0.291649  0.144229\n",
       "Cornell   0.127719  0.342414 -0.320766  0.070260 -0.390846  0.369587"
      ]
     },
     "execution_count": 5,
     "metadata": {},
     "output_type": "execute_result"
    }
   ],
   "source": [
    "# Get column names first\n",
    "names = univ_df.columns\n",
    "\n",
    "# Create the Scaler object\n",
    "scaler = preprocessing.StandardScaler()\n",
    "\n",
    "# Fit your data on the scaler object\n",
    "scaled_univ_df = scaler.fit_transform(univ_df)\n",
    "scaled_univ_df = pd.DataFrame(scaled_univ_df, columns=names, index=univ_df.index)\n",
    "scaled_univ_df.head()"
   ]
  },
  {
   "cell_type": "markdown",
   "metadata": {},
   "source": [
    "### Distance Between Two Universities (After Standardisation)"
   ]
  },
  {
   "cell_type": "code",
   "execution_count": 6,
   "metadata": {
    "scrolled": true
   },
   "outputs": [
    {
     "data": {
      "text/html": [
       "<div>\n",
       "<style scoped>\n",
       "    .dataframe tbody tr th:only-of-type {\n",
       "        vertical-align: middle;\n",
       "    }\n",
       "\n",
       "    .dataframe tbody tr th {\n",
       "        vertical-align: top;\n",
       "    }\n",
       "\n",
       "    .dataframe thead th {\n",
       "        text-align: right;\n",
       "    }\n",
       "</style>\n",
       "<table border=\"1\" class=\"dataframe\">\n",
       "  <thead>\n",
       "    <tr style=\"text-align: right;\">\n",
       "      <th>Univ</th>\n",
       "      <th>Brown</th>\n",
       "      <th>CalTech</th>\n",
       "      <th>CMU</th>\n",
       "      <th>Columbia</th>\n",
       "      <th>Cornell</th>\n",
       "      <th>Dartmouth</th>\n",
       "      <th>Duke</th>\n",
       "      <th>Georgetown</th>\n",
       "      <th>Harvard</th>\n",
       "      <th>JohnsHopkins</th>\n",
       "      <th>MIT</th>\n",
       "      <th>Northwestern</th>\n",
       "      <th>NotreDame</th>\n",
       "      <th>PennState</th>\n",
       "      <th>Princeton</th>\n",
       "      <th>Purdue</th>\n",
       "      <th>Stanford</th>\n",
       "      <th>TexasA&amp;M</th>\n",
       "      <th>UCBerkeley</th>\n",
       "      <th>UChicago</th>\n",
       "      <th>UMichigan</th>\n",
       "      <th>UPenn</th>\n",
       "      <th>UVA</th>\n",
       "      <th>UWisconsin</th>\n",
       "      <th>Yale</th>\n",
       "    </tr>\n",
       "    <tr>\n",
       "      <th>Univ</th>\n",
       "      <th></th>\n",
       "      <th></th>\n",
       "      <th></th>\n",
       "      <th></th>\n",
       "      <th></th>\n",
       "      <th></th>\n",
       "      <th></th>\n",
       "      <th></th>\n",
       "      <th></th>\n",
       "      <th></th>\n",
       "      <th></th>\n",
       "      <th></th>\n",
       "      <th></th>\n",
       "      <th></th>\n",
       "      <th></th>\n",
       "      <th></th>\n",
       "      <th></th>\n",
       "      <th></th>\n",
       "      <th></th>\n",
       "      <th></th>\n",
       "      <th></th>\n",
       "      <th></th>\n",
       "      <th></th>\n",
       "      <th></th>\n",
       "      <th></th>\n",
       "    </tr>\n",
       "  </thead>\n",
       "  <tbody>\n",
       "    <tr>\n",
       "      <th>Brown</th>\n",
       "      <td>0.000000</td>\n",
       "      <td>3.863860</td>\n",
       "      <td>3.616124</td>\n",
       "      <td>1.176890e+00</td>\n",
       "      <td>0.842429</td>\n",
       "      <td>1.053437</td>\n",
       "      <td>0.804233</td>\n",
       "      <td>1.023064</td>\n",
       "      <td>1.638147</td>\n",
       "      <td>3.348209</td>\n",
       "      <td>1.448064</td>\n",
       "      <td>1.323604</td>\n",
       "      <td>1.342881</td>\n",
       "      <td>4.406156</td>\n",
       "      <td>1.557819</td>\n",
       "      <td>6.482715</td>\n",
       "      <td>1.121088</td>\n",
       "      <td>5.834081</td>\n",
       "      <td>2.438323</td>\n",
       "      <td>2.127651</td>\n",
       "      <td>3.257120</td>\n",
       "      <td>1.173113</td>\n",
       "      <td>1.698675</td>\n",
       "      <td>4.958166</td>\n",
       "      <td>1.723019</td>\n",
       "    </tr>\n",
       "    <tr>\n",
       "      <th>CalTech</th>\n",
       "      <td>3.863860</td>\n",
       "      <td>0.000000</td>\n",
       "      <td>4.271141</td>\n",
       "      <td>3.256603e+00</td>\n",
       "      <td>3.925392</td>\n",
       "      <td>3.046208</td>\n",
       "      <td>3.332906</td>\n",
       "      <td>4.170369</td>\n",
       "      <td>2.878763</td>\n",
       "      <td>2.098327</td>\n",
       "      <td>2.583979</td>\n",
       "      <td>3.461280</td>\n",
       "      <td>4.585223</td>\n",
       "      <td>6.789665</td>\n",
       "      <td>2.999873</td>\n",
       "      <td>8.237940</td>\n",
       "      <td>2.896466</td>\n",
       "      <td>7.902067</td>\n",
       "      <td>4.781778</td>\n",
       "      <td>3.391626</td>\n",
       "      <td>5.595666</td>\n",
       "      <td>3.467687</td>\n",
       "      <td>4.880857</td>\n",
       "      <td>6.673246</td>\n",
       "      <td>2.598619</td>\n",
       "    </tr>\n",
       "    <tr>\n",
       "      <th>CMU</th>\n",
       "      <td>3.616124</td>\n",
       "      <td>4.271141</td>\n",
       "      <td>0.000000</td>\n",
       "      <td>2.840556e+00</td>\n",
       "      <td>2.869218</td>\n",
       "      <td>3.616868</td>\n",
       "      <td>3.490029</td>\n",
       "      <td>3.073076</td>\n",
       "      <td>4.326452</td>\n",
       "      <td>3.167054</td>\n",
       "      <td>3.388860</td>\n",
       "      <td>2.548862</td>\n",
       "      <td>3.068399</td>\n",
       "      <td>3.393157</td>\n",
       "      <td>3.978382</td>\n",
       "      <td>4.383526</td>\n",
       "      <td>3.733617</td>\n",
       "      <td>4.630771</td>\n",
       "      <td>2.996912</td>\n",
       "      <td>2.349402</td>\n",
       "      <td>2.549038</td>\n",
       "      <td>2.600487</td>\n",
       "      <td>2.943953</td>\n",
       "      <td>2.732600</td>\n",
       "      <td>4.211373</td>\n",
       "    </tr>\n",
       "    <tr>\n",
       "      <th>Columbia</th>\n",
       "      <td>1.176890</td>\n",
       "      <td>3.256603</td>\n",
       "      <td>2.840556</td>\n",
       "      <td>1.490116e-08</td>\n",
       "      <td>1.005659</td>\n",
       "      <td>1.193633</td>\n",
       "      <td>1.123086</td>\n",
       "      <td>1.063631</td>\n",
       "      <td>1.737758</td>\n",
       "      <td>2.522115</td>\n",
       "      <td>1.359165</td>\n",
       "      <td>1.087641</td>\n",
       "      <td>1.751878</td>\n",
       "      <td>4.049674</td>\n",
       "      <td>1.703223</td>\n",
       "      <td>6.037992</td>\n",
       "      <td>1.115697</td>\n",
       "      <td>5.541048</td>\n",
       "      <td>2.510166</td>\n",
       "      <td>1.469559</td>\n",
       "      <td>3.069972</td>\n",
       "      <td>0.822893</td>\n",
       "      <td>1.954617</td>\n",
       "      <td>4.433446</td>\n",
       "      <td>1.741929</td>\n",
       "    </tr>\n",
       "    <tr>\n",
       "      <th>Cornell</th>\n",
       "      <td>0.842429</td>\n",
       "      <td>3.925392</td>\n",
       "      <td>2.869218</td>\n",
       "      <td>1.005659e+00</td>\n",
       "      <td>0.000000</td>\n",
       "      <td>1.449597</td>\n",
       "      <td>1.058944</td>\n",
       "      <td>0.790275</td>\n",
       "      <td>2.203575</td>\n",
       "      <td>3.118713</td>\n",
       "      <td>1.634372</td>\n",
       "      <td>0.774035</td>\n",
       "      <td>0.844977</td>\n",
       "      <td>3.715555</td>\n",
       "      <td>2.045615</td>\n",
       "      <td>5.695138</td>\n",
       "      <td>1.548410</td>\n",
       "      <td>5.163462</td>\n",
       "      <td>1.931932</td>\n",
       "      <td>1.561660</td>\n",
       "      <td>2.479606</td>\n",
       "      <td>0.681922</td>\n",
       "      <td>1.080857</td>\n",
       "      <td>4.156759</td>\n",
       "      <td>2.185834</td>\n",
       "    </tr>\n",
       "  </tbody>\n",
       "</table>\n",
       "</div>"
      ],
      "text/plain": [
       "Univ         Brown   CalTech       CMU      Columbia   Cornell  Dartmouth  \\\n",
       "Univ                                                                        \n",
       "Brown     0.000000  3.863860  3.616124  1.176890e+00  0.842429   1.053437   \n",
       "CalTech   3.863860  0.000000  4.271141  3.256603e+00  3.925392   3.046208   \n",
       "CMU       3.616124  4.271141  0.000000  2.840556e+00  2.869218   3.616868   \n",
       "Columbia  1.176890  3.256603  2.840556  1.490116e-08  1.005659   1.193633   \n",
       "Cornell   0.842429  3.925392  2.869218  1.005659e+00  0.000000   1.449597   \n",
       "\n",
       "Univ          Duke  Georgetown   Harvard  JohnsHopkins       MIT  \\\n",
       "Univ                                                               \n",
       "Brown     0.804233    1.023064  1.638147      3.348209  1.448064   \n",
       "CalTech   3.332906    4.170369  2.878763      2.098327  2.583979   \n",
       "CMU       3.490029    3.073076  4.326452      3.167054  3.388860   \n",
       "Columbia  1.123086    1.063631  1.737758      2.522115  1.359165   \n",
       "Cornell   1.058944    0.790275  2.203575      3.118713  1.634372   \n",
       "\n",
       "Univ      Northwestern  NotreDame  PennState  Princeton    Purdue  Stanford  \\\n",
       "Univ                                                                          \n",
       "Brown         1.323604   1.342881   4.406156   1.557819  6.482715  1.121088   \n",
       "CalTech       3.461280   4.585223   6.789665   2.999873  8.237940  2.896466   \n",
       "CMU           2.548862   3.068399   3.393157   3.978382  4.383526  3.733617   \n",
       "Columbia      1.087641   1.751878   4.049674   1.703223  6.037992  1.115697   \n",
       "Cornell       0.774035   0.844977   3.715555   2.045615  5.695138  1.548410   \n",
       "\n",
       "Univ      TexasA&M  UCBerkeley  UChicago  UMichigan     UPenn       UVA  \\\n",
       "Univ                                                                      \n",
       "Brown     5.834081    2.438323  2.127651   3.257120  1.173113  1.698675   \n",
       "CalTech   7.902067    4.781778  3.391626   5.595666  3.467687  4.880857   \n",
       "CMU       4.630771    2.996912  2.349402   2.549038  2.600487  2.943953   \n",
       "Columbia  5.541048    2.510166  1.469559   3.069972  0.822893  1.954617   \n",
       "Cornell   5.163462    1.931932  1.561660   2.479606  0.681922  1.080857   \n",
       "\n",
       "Univ      UWisconsin      Yale  \n",
       "Univ                            \n",
       "Brown       4.958166  1.723019  \n",
       "CalTech     6.673246  2.598619  \n",
       "CMU         2.732600  4.211373  \n",
       "Columbia    4.433446  1.741929  \n",
       "Cornell     4.156759  2.185834  "
      ]
     },
     "execution_count": 6,
     "metadata": {},
     "output_type": "execute_result"
    }
   ],
   "source": [
    "d_norm_scaled = pairwise.pairwise_distances(scaled_univ_df, metric='euclidean')\n",
    "pd.DataFrame(d_norm_scaled, columns=univ_df.index, index=univ_df.index).head(5)"
   ]
  },
  {
   "cell_type": "markdown",
   "metadata": {},
   "source": [
    "### Agglomerative clustering - Single Linkage"
   ]
  },
  {
   "cell_type": "code",
   "execution_count": 7,
   "metadata": {
    "scrolled": false
   },
   "outputs": [
    {
     "data": {
      "text/plain": [
       "Text(0.5, 1.0, 'Hierarchical Clustering Dendrogram (Single linkage)')"
      ]
     },
     "execution_count": 7,
     "metadata": {},
     "output_type": "execute_result"
    },
    {
     "data": {
      "text/plain": [
       "Text(0.5, 0, 'University')"
      ]
     },
     "execution_count": 7,
     "metadata": {},
     "output_type": "execute_result"
    },
    {
     "data": {
      "text/plain": [
       "<matplotlib.lines.Line2D at 0x115189160>"
      ]
     },
     "execution_count": 7,
     "metadata": {},
     "output_type": "execute_result"
    },
    {
     "data": {
      "image/png": "[encoded data removed]",
      "text/plain": [
       "<Figure size 864x432 with 1 Axes>"
      ]
     },
     "metadata": {},
     "output_type": "display_data"
    }
   ],
   "source": [
    "Z = linkage(scaled_univ_df, method='single')\n",
    "\n",
    "fig = plt.figure(figsize=(12, 6))\n",
    "fig.subplots_adjust(bottom=0.13)\n",
    "plt.title('Hierarchical Clustering Dendrogram (Single linkage)')\n",
    "plt.xlabel('University')\n",
    "dd = dendrogram(Z, labels=scaled_univ_df.index, color_threshold=2)\n",
    "plt.axhline(y=2, color='black', linewidth=0.5, linestyle='dashed')\n",
    "plt.show()"
   ]
  },
  {
   "cell_type": "markdown",
   "metadata": {},
   "source": [
    "### Agglomerative clustering - Average Linkage"
   ]
  },
  {
   "cell_type": "code",
   "execution_count": 8,
   "metadata": {},
   "outputs": [
    {
     "data": {
      "text/plain": [
       "Text(0.5, 1.0, 'Hierarchical Clustering Dendrogram (Average linkage)')"
      ]
     },
     "execution_count": 8,
     "metadata": {},
     "output_type": "execute_result"
    },
    {
     "data": {
      "text/plain": [
       "Text(0.5, 0, 'University')"
      ]
     },
     "execution_count": 8,
     "metadata": {},
     "output_type": "execute_result"
    },
    {
     "data": {
      "text/plain": [
       "<matplotlib.lines.Line2D at 0x11a0afd30>"
      ]
     },
     "execution_count": 8,
     "metadata": {},
     "output_type": "execute_result"
    },
    {
     "data": {
      "image/png": "[encoded data removed]",
      "text/plain": [
       "<Figure size 864x432 with 1 Axes>"
      ]
     },
     "metadata": {},
     "output_type": "display_data"
    }
   ],
   "source": [
    "Z = linkage(scaled_univ_df, method='average')\n",
    "\n",
    "fig = plt.figure(figsize=(12, 6))\n",
    "fig.subplots_adjust(bottom=0.13)\n",
    "plt.title('Hierarchical Clustering Dendrogram (Average linkage)')\n",
    "plt.xlabel('University')\n",
    "dd = dendrogram(Z, labels=scaled_univ_df.index, color_threshold=2.9)\n",
    "plt.axhline(y=2.9, color='black', linewidth=0.5, linestyle='dashed')\n",
    "plt.show()"
   ]
  },
  {
   "cell_type": "markdown",
   "metadata": {},
   "source": [
    "linkage takes the values - single, complete, average, centroid, median, ward"
   ]
  },
  {
   "cell_type": "code",
   "execution_count": 9,
   "metadata": {},
   "outputs": [
    {
     "data": {
      "text/plain": [
       "Text(0.5, 1.0, 'Hierarchical Clustering Dendrogram (Complete linkage)')"
      ]
     },
     "execution_count": 9,
     "metadata": {},
     "output_type": "execute_result"
    },
    {
     "data": {
      "text/plain": [
       "Text(0.5, 0, 'University')"
      ]
     },
     "execution_count": 9,
     "metadata": {},
     "output_type": "execute_result"
    },
    {
     "data": {
      "text/plain": [
       "<matplotlib.lines.Line2D at 0x11a1345c0>"
      ]
     },
     "execution_count": 9,
     "metadata": {},
     "output_type": "execute_result"
    },
    {
     "data": {
      "image/png": "[encoded data removed]",
      "text/plain": [
       "<Figure size 864x432 with 1 Axes>"
      ]
     },
     "metadata": {},
     "output_type": "display_data"
    }
   ],
   "source": [
    "Z = linkage(scaled_univ_df, method='complete')\n",
    "\n",
    "fig = plt.figure(figsize=(12, 6))\n",
    "fig.subplots_adjust(bottom=0.13)\n",
    "plt.title('Hierarchical Clustering Dendrogram (Complete linkage)')\n",
    "plt.xlabel('University')\n",
    "dd = dendrogram(Z, labels=scaled_univ_df.index, color_threshold=4.8, leaf_rotation= 80)\n",
    "plt.axhline(y=4.8, color='black', linewidth=0.5, linestyle='dashed')\n",
    "plt.show()"
   ]
  },
  {
   "cell_type": "markdown",
   "metadata": {},
   "source": [
    "Optimal number of clusters looks to be between 3 and 5\n",
    "\n",
    "let's evaluate usefulness of clustering activity"
   ]
  },
  {
   "cell_type": "markdown",
   "metadata": {},
   "source": [
    "### From Dendrograms to Clusters"
   ]
  },
  {
   "cell_type": "code",
   "execution_count": 10,
   "metadata": {
    "scrolled": true
   },
   "outputs": [
    {
     "data": {
      "text/html": [
       "<div>\n",
       "<style scoped>\n",
       "    .dataframe tbody tr th:only-of-type {\n",
       "        vertical-align: middle;\n",
       "    }\n",
       "\n",
       "    .dataframe tbody tr th {\n",
       "        vertical-align: top;\n",
       "    }\n",
       "\n",
       "    .dataframe thead th {\n",
       "        text-align: right;\n",
       "    }\n",
       "</style>\n",
       "<table border=\"1\" class=\"dataframe\">\n",
       "  <thead>\n",
       "    <tr style=\"text-align: right;\">\n",
       "      <th></th>\n",
       "      <th>Cluster</th>\n",
       "    </tr>\n",
       "    <tr>\n",
       "      <th>Univ</th>\n",
       "      <th></th>\n",
       "    </tr>\n",
       "  </thead>\n",
       "  <tbody>\n",
       "    <tr>\n",
       "      <th>Brown</th>\n",
       "      <td>2</td>\n",
       "    </tr>\n",
       "    <tr>\n",
       "      <th>CalTech</th>\n",
       "      <td>3</td>\n",
       "    </tr>\n",
       "    <tr>\n",
       "      <th>CMU</th>\n",
       "      <td>1</td>\n",
       "    </tr>\n",
       "    <tr>\n",
       "      <th>Columbia</th>\n",
       "      <td>2</td>\n",
       "    </tr>\n",
       "    <tr>\n",
       "      <th>Cornell</th>\n",
       "      <td>2</td>\n",
       "    </tr>\n",
       "  </tbody>\n",
       "</table>\n",
       "</div>"
      ],
      "text/plain": [
       "          Cluster\n",
       "Univ             \n",
       "Brown           2\n",
       "CalTech         3\n",
       "CMU             1\n",
       "Columbia        2\n",
       "Cornell         2"
      ]
     },
     "execution_count": 10,
     "metadata": {},
     "output_type": "execute_result"
    }
   ],
   "source": [
    "memb = fcluster(linkage(scaled_univ_df, 'complete'), 3, criterion='maxclust')\n",
    "memb = pd.Series(memb, index=scaled_univ_df.index)\n",
    "pd.DataFrame(memb, columns = ['Cluster']).head()"
   ]
  },
  {
   "cell_type": "code",
   "execution_count": 11,
   "metadata": {},
   "outputs": [
    {
     "name": "stdout",
     "output_type": "stream",
     "text": [
      "1 :  CMU, PennState, Purdue, TexasA&M, UMichigan, UWisconsin\n",
      "2 :  Brown, Columbia, Cornell, Georgetown, Northwestern, NotreDame, UCBerkeley, UChicago, UPenn, UVA\n",
      "3 :  CalTech, Dartmouth, Duke, Harvard, JohnsHopkins, MIT, Princeton, Stanford, Yale\n"
     ]
    }
   ],
   "source": [
    "for key, item in memb.groupby(memb):\n",
    "    print(key, ': ', ', '.join(item.index))"
   ]
  },
  {
   "cell_type": "code",
   "execution_count": 12,
   "metadata": {},
   "outputs": [
    {
     "data": {
      "text/plain": [
       "<seaborn.matrix.ClusterGrid at 0x1151a1668>"
      ]
     },
     "execution_count": 12,
     "metadata": {},
     "output_type": "execute_result"
    },
    {
     "data": {
      "image/png": "[encoded data removed]",
      "text/plain": [
       "<Figure size 720x720 with 4 Axes>"
      ]
     },
     "metadata": {},
     "output_type": "display_data"
    }
   ],
   "source": [
    "scaled_univ_df.index = ['{}: {}'.format(cluster, state) for cluster, state in zip(memb, scaled_univ_df.index)]\n",
    "sns.clustermap(scaled_univ_df, method='complete', col_cluster=False)\n",
    "plt.show()"
   ]
  },
  {
   "cell_type": "markdown",
   "metadata": {},
   "source": [
    "<p> \n",
    "\n",
    "\n",
    "</p>"
   ]
  },
  {
   "cell_type": "markdown",
   "metadata": {},
   "source": [
    "# <center> K-Means Clustering"
   ]
  },
  {
   "cell_type": "markdown",
   "metadata": {},
   "source": [
    "### Loading Data and Standardising the Variables"
   ]
  },
  {
   "cell_type": "code",
   "execution_count": 13,
   "metadata": {
    "scrolled": true
   },
   "outputs": [
    {
     "data": {
      "text/html": [
       "<div>\n",
       "<style scoped>\n",
       "    .dataframe tbody tr th:only-of-type {\n",
       "        vertical-align: middle;\n",
       "    }\n",
       "\n",
       "    .dataframe tbody tr th {\n",
       "        vertical-align: top;\n",
       "    }\n",
       "\n",
       "    .dataframe thead th {\n",
       "        text-align: right;\n",
       "    }\n",
       "</style>\n",
       "<table border=\"1\" class=\"dataframe\">\n",
       "  <thead>\n",
       "    <tr style=\"text-align: right;\">\n",
       "      <th></th>\n",
       "      <th>SAT</th>\n",
       "      <th>Top10</th>\n",
       "      <th>Accept</th>\n",
       "      <th>SFRatio</th>\n",
       "      <th>Expenses</th>\n",
       "      <th>GradRate</th>\n",
       "    </tr>\n",
       "    <tr>\n",
       "      <th>Univ</th>\n",
       "      <th></th>\n",
       "      <th></th>\n",
       "      <th></th>\n",
       "      <th></th>\n",
       "      <th></th>\n",
       "      <th></th>\n",
       "    </tr>\n",
       "  </thead>\n",
       "  <tbody>\n",
       "    <tr>\n",
       "      <th>Brown</th>\n",
       "      <td>0.410284</td>\n",
       "      <td>0.657519</td>\n",
       "      <td>-0.889867</td>\n",
       "      <td>0.070260</td>\n",
       "      <td>-0.331413</td>\n",
       "      <td>0.820303</td>\n",
       "    </tr>\n",
       "    <tr>\n",
       "      <th>CalTech</th>\n",
       "      <td>1.399259</td>\n",
       "      <td>1.235212</td>\n",
       "      <td>-0.734657</td>\n",
       "      <td>-1.686251</td>\n",
       "      <td>2.560381</td>\n",
       "      <td>-0.644524</td>\n",
       "    </tr>\n",
       "    <tr>\n",
       "      <th>CMU</th>\n",
       "      <td>-0.060657</td>\n",
       "      <td>-0.760454</td>\n",
       "      <td>1.024382</td>\n",
       "      <td>-0.933460</td>\n",
       "      <td>-0.167121</td>\n",
       "      <td>-1.658634</td>\n",
       "    </tr>\n",
       "    <tr>\n",
       "      <th>Columbia</th>\n",
       "      <td>0.410284</td>\n",
       "      <td>-0.025208</td>\n",
       "      <td>-0.786394</td>\n",
       "      <td>-0.180670</td>\n",
       "      <td>0.291649</td>\n",
       "      <td>0.144229</td>\n",
       "    </tr>\n",
       "    <tr>\n",
       "      <th>Cornell</th>\n",
       "      <td>0.127719</td>\n",
       "      <td>0.342414</td>\n",
       "      <td>-0.320766</td>\n",
       "      <td>0.070260</td>\n",
       "      <td>-0.390846</td>\n",
       "      <td>0.369587</td>\n",
       "    </tr>\n",
       "  </tbody>\n",
       "</table>\n",
       "</div>"
      ],
      "text/plain": [
       "               SAT     Top10    Accept   SFRatio  Expenses  GradRate\n",
       "Univ                                                                \n",
       "Brown     0.410284  0.657519 -0.889867  0.070260 -0.331413  0.820303\n",
       "CalTech   1.399259  1.235212 -0.734657 -1.686251  2.560381 -0.644524\n",
       "CMU      -0.060657 -0.760454  1.024382 -0.933460 -0.167121 -1.658634\n",
       "Columbia  0.410284 -0.025208 -0.786394 -0.180670  0.291649  0.144229\n",
       "Cornell   0.127719  0.342414 -0.320766  0.070260 -0.390846  0.369587"
      ]
     },
     "execution_count": 13,
     "metadata": {},
     "output_type": "execute_result"
    }
   ],
   "source": [
    "univ_df = pd.read_csv('../data/Universities_Clustering.csv')\n",
    "univ_df.set_index('Univ', inplace=True)\n",
    "univ_df.drop(['State'], axis=1, inplace=True)\n",
    "univ_df = univ_df.apply(lambda x: x.astype('float64'))\n",
    "\n",
    "# Get column names first\n",
    "names = univ_df.columns\n",
    "\n",
    "# Create the Scaler object\n",
    "scaler = preprocessing.StandardScaler()\n",
    "\n",
    "# Fit your data on the scaler object\n",
    "scaled_univ_df = scaler.fit_transform(univ_df)\n",
    "scaled_univ_df = pd.DataFrame(scaled_univ_df, columns=names, index=univ_df.index)\n",
    "scaled_univ_df.head()"
   ]
  },
  {
   "cell_type": "markdown",
   "metadata": {},
   "source": [
    "### Visualize data using variables SAT and Top10"
   ]
  },
  {
   "cell_type": "code",
   "execution_count": 14,
   "metadata": {
    "scrolled": false
   },
   "outputs": [
    {
     "data": {
      "text/plain": [
       "<matplotlib.collections.PathCollection at 0x11a796240>"
      ]
     },
     "execution_count": 14,
     "metadata": {},
     "output_type": "execute_result"
    },
    {
     "data": {
      "image/png": "[encoded data removed]",
      "text/plain": [
       "<Figure size 432x288 with 1 Axes>"
      ]
     },
     "metadata": {},
     "output_type": "display_data"
    }
   ],
   "source": [
    "plt.scatter(scaled_univ_df.SAT, scaled_univ_df.Top10)\n",
    "#sns.pairplot(scaled_univ_df)"
   ]
  },
  {
   "cell_type": "markdown",
   "metadata": {},
   "source": [
    "### Perform K-Means clustering using 3 clusters"
   ]
  },
  {
   "cell_type": "code",
   "execution_count": 15,
   "metadata": {
    "scrolled": true
   },
   "outputs": [
    {
     "name": "stdout",
     "output_type": "stream",
     "text": [
      "0 :  CalTech, Dartmouth, Duke, Harvard, JohnsHopkins, MIT, Princeton, Stanford, Yale\n",
      "1 :  PennState, Purdue, TexasA&M, UWisconsin\n",
      "2 :  Brown, CMU, Columbia, Cornell, Georgetown, Northwestern, NotreDame, UCBerkeley, UChicago, UMichigan, UPenn, UVA\n"
     ]
    }
   ],
   "source": [
    "kmeans = KMeans(n_clusters=3, random_state=0).fit(scaled_univ_df)\n",
    "\n",
    "# Cluster membership\n",
    "memb = pd.Series(kmeans.labels_, index=scaled_univ_df.index)\n",
    "for key, item in memb.groupby(memb):\n",
    "    print(key, ': ', ', '.join(item.index))"
   ]
  },
  {
   "cell_type": "markdown",
   "metadata": {},
   "source": [
    "### Add Labels to the dataset"
   ]
  },
  {
   "cell_type": "code",
   "execution_count": 16,
   "metadata": {},
   "outputs": [
    {
     "data": {
      "text/html": [
       "<div>\n",
       "<style scoped>\n",
       "    .dataframe tbody tr th:only-of-type {\n",
       "        vertical-align: middle;\n",
       "    }\n",
       "\n",
       "    .dataframe tbody tr th {\n",
       "        vertical-align: top;\n",
       "    }\n",
       "\n",
       "    .dataframe thead th {\n",
       "        text-align: right;\n",
       "    }\n",
       "</style>\n",
       "<table border=\"1\" class=\"dataframe\">\n",
       "  <thead>\n",
       "    <tr style=\"text-align: right;\">\n",
       "      <th></th>\n",
       "      <th>SAT</th>\n",
       "      <th>Top10</th>\n",
       "      <th>Accept</th>\n",
       "      <th>SFRatio</th>\n",
       "      <th>Expenses</th>\n",
       "      <th>GradRate</th>\n",
       "      <th>Cluster</th>\n",
       "    </tr>\n",
       "    <tr>\n",
       "      <th>Univ</th>\n",
       "      <th></th>\n",
       "      <th></th>\n",
       "      <th></th>\n",
       "      <th></th>\n",
       "      <th></th>\n",
       "      <th></th>\n",
       "      <th></th>\n",
       "    </tr>\n",
       "  </thead>\n",
       "  <tbody>\n",
       "    <tr>\n",
       "      <th>Brown</th>\n",
       "      <td>1310.0</td>\n",
       "      <td>89.0</td>\n",
       "      <td>22.0</td>\n",
       "      <td>13.0</td>\n",
       "      <td>22704.0</td>\n",
       "      <td>94.0</td>\n",
       "      <td>2</td>\n",
       "    </tr>\n",
       "    <tr>\n",
       "      <th>CalTech</th>\n",
       "      <td>1415.0</td>\n",
       "      <td>100.0</td>\n",
       "      <td>25.0</td>\n",
       "      <td>6.0</td>\n",
       "      <td>63575.0</td>\n",
       "      <td>81.0</td>\n",
       "      <td>0</td>\n",
       "    </tr>\n",
       "    <tr>\n",
       "      <th>CMU</th>\n",
       "      <td>1260.0</td>\n",
       "      <td>62.0</td>\n",
       "      <td>59.0</td>\n",
       "      <td>9.0</td>\n",
       "      <td>25026.0</td>\n",
       "      <td>72.0</td>\n",
       "      <td>2</td>\n",
       "    </tr>\n",
       "    <tr>\n",
       "      <th>Columbia</th>\n",
       "      <td>1310.0</td>\n",
       "      <td>76.0</td>\n",
       "      <td>24.0</td>\n",
       "      <td>12.0</td>\n",
       "      <td>31510.0</td>\n",
       "      <td>88.0</td>\n",
       "      <td>2</td>\n",
       "    </tr>\n",
       "    <tr>\n",
       "      <th>Cornell</th>\n",
       "      <td>1280.0</td>\n",
       "      <td>83.0</td>\n",
       "      <td>33.0</td>\n",
       "      <td>13.0</td>\n",
       "      <td>21864.0</td>\n",
       "      <td>90.0</td>\n",
       "      <td>2</td>\n",
       "    </tr>\n",
       "  </tbody>\n",
       "</table>\n",
       "</div>"
      ],
      "text/plain": [
       "             SAT  Top10  Accept  SFRatio  Expenses  GradRate  Cluster\n",
       "Univ                                                                 \n",
       "Brown     1310.0   89.0    22.0     13.0   22704.0      94.0        2\n",
       "CalTech   1415.0  100.0    25.0      6.0   63575.0      81.0        0\n",
       "CMU       1260.0   62.0    59.0      9.0   25026.0      72.0        2\n",
       "Columbia  1310.0   76.0    24.0     12.0   31510.0      88.0        2\n",
       "Cornell   1280.0   83.0    33.0     13.0   21864.0      90.0        2"
      ]
     },
     "execution_count": 16,
     "metadata": {},
     "output_type": "execute_result"
    }
   ],
   "source": [
    "univ_df['Cluster'] = kmeans.labels_\n",
    "univ_df.head()"
   ]
  },
  {
   "cell_type": "markdown",
   "metadata": {},
   "source": [
    "### Centroid of each Cluster"
   ]
  },
  {
   "cell_type": "code",
   "execution_count": 17,
   "metadata": {
    "scrolled": true
   },
   "outputs": [
    {
     "data": {
      "text/html": [
       "<div>\n",
       "<style scoped>\n",
       "    .dataframe tbody tr th:only-of-type {\n",
       "        vertical-align: middle;\n",
       "    }\n",
       "\n",
       "    .dataframe tbody tr th {\n",
       "        vertical-align: top;\n",
       "    }\n",
       "\n",
       "    .dataframe thead th {\n",
       "        text-align: right;\n",
       "    }\n",
       "</style>\n",
       "<table border=\"1\" class=\"dataframe\">\n",
       "  <thead>\n",
       "    <tr style=\"text-align: right;\">\n",
       "      <th></th>\n",
       "      <th>SAT</th>\n",
       "      <th>Top10</th>\n",
       "      <th>Accept</th>\n",
       "      <th>SFRatio</th>\n",
       "      <th>Expenses</th>\n",
       "      <th>GradRate</th>\n",
       "    </tr>\n",
       "  </thead>\n",
       "  <tbody>\n",
       "    <tr>\n",
       "      <th>0</th>\n",
       "      <td>0.907388</td>\n",
       "      <td>0.739213</td>\n",
       "      <td>-0.769148</td>\n",
       "      <td>-0.766173</td>\n",
       "      <td>0.975621</td>\n",
       "      <td>0.619985</td>\n",
       "    </tr>\n",
       "    <tr>\n",
       "      <th>1</th>\n",
       "      <td>-1.930292</td>\n",
       "      <td>-1.981486</td>\n",
       "      <td>1.593482</td>\n",
       "      <td>1.638574</td>\n",
       "      <td>-1.233599</td>\n",
       "      <td>-1.686804</td>\n",
       "    </tr>\n",
       "    <tr>\n",
       "      <th>2</th>\n",
       "      <td>-0.037110</td>\n",
       "      <td>0.106085</td>\n",
       "      <td>0.045701</td>\n",
       "      <td>0.028439</td>\n",
       "      <td>-0.320516</td>\n",
       "      <td>0.097279</td>\n",
       "    </tr>\n",
       "  </tbody>\n",
       "</table>\n",
       "</div>"
      ],
      "text/plain": [
       "        SAT     Top10    Accept   SFRatio  Expenses  GradRate\n",
       "0  0.907388  0.739213 -0.769148 -0.766173  0.975621  0.619985\n",
       "1 -1.930292 -1.981486  1.593482  1.638574 -1.233599 -1.686804\n",
       "2 -0.037110  0.106085  0.045701  0.028439 -0.320516  0.097279"
      ]
     },
     "execution_count": 17,
     "metadata": {},
     "output_type": "execute_result"
    }
   ],
   "source": [
    "# Centroids created on standardised dataset\n",
    "centroids = pd.DataFrame(kmeans.cluster_centers_, columns=scaled_univ_df.columns)\n",
    "centroids"
   ]
  },
  {
   "cell_type": "code",
   "execution_count": 18,
   "metadata": {},
   "outputs": [
    {
     "data": {
      "text/html": [
       "<div>\n",
       "<style scoped>\n",
       "    .dataframe tbody tr th:only-of-type {\n",
       "        vertical-align: middle;\n",
       "    }\n",
       "\n",
       "    .dataframe tbody tr th {\n",
       "        vertical-align: top;\n",
       "    }\n",
       "\n",
       "    .dataframe thead th {\n",
       "        text-align: right;\n",
       "    }\n",
       "</style>\n",
       "<table border=\"1\" class=\"dataframe\">\n",
       "  <thead>\n",
       "    <tr style=\"text-align: right;\">\n",
       "      <th></th>\n",
       "      <th>SAT</th>\n",
       "      <th>Top10</th>\n",
       "      <th>Accept</th>\n",
       "      <th>SFRatio</th>\n",
       "      <th>Expenses</th>\n",
       "      <th>GradRate</th>\n",
       "    </tr>\n",
       "    <tr>\n",
       "      <th>Cluster</th>\n",
       "      <th></th>\n",
       "      <th></th>\n",
       "      <th></th>\n",
       "      <th></th>\n",
       "      <th></th>\n",
       "      <th></th>\n",
       "    </tr>\n",
       "  </thead>\n",
       "  <tbody>\n",
       "    <tr>\n",
       "      <th>0</th>\n",
       "      <td>1362.777778</td>\n",
       "      <td>90.555556</td>\n",
       "      <td>24.333333</td>\n",
       "      <td>9.666667</td>\n",
       "      <td>41176.888889</td>\n",
       "      <td>92.222222</td>\n",
       "    </tr>\n",
       "    <tr>\n",
       "      <th>1</th>\n",
       "      <td>1061.500000</td>\n",
       "      <td>38.750000</td>\n",
       "      <td>70.000000</td>\n",
       "      <td>19.250000</td>\n",
       "      <td>9953.000000</td>\n",
       "      <td>71.750000</td>\n",
       "    </tr>\n",
       "    <tr>\n",
       "      <th>2</th>\n",
       "      <td>1262.500000</td>\n",
       "      <td>78.500000</td>\n",
       "      <td>40.083333</td>\n",
       "      <td>12.833333</td>\n",
       "      <td>22858.000000</td>\n",
       "      <td>87.583333</td>\n",
       "    </tr>\n",
       "  </tbody>\n",
       "</table>\n",
       "</div>"
      ],
      "text/plain": [
       "                 SAT      Top10     Accept    SFRatio      Expenses   GradRate\n",
       "Cluster                                                                       \n",
       "0        1362.777778  90.555556  24.333333   9.666667  41176.888889  92.222222\n",
       "1        1061.500000  38.750000  70.000000  19.250000   9953.000000  71.750000\n",
       "2        1262.500000  78.500000  40.083333  12.833333  22858.000000  87.583333"
      ]
     },
     "execution_count": 18,
     "metadata": {},
     "output_type": "execute_result"
    }
   ],
   "source": [
    "# Centroids created on original dataset\n",
    "metric_cols = univ_df.columns.tolist()\n",
    "metric_cols.remove('Cluster')\n",
    "\n",
    "centroids = univ_df.groupby('Cluster')[metric_cols].mean()\n",
    "centroids"
   ]
  },
  {
   "cell_type": "markdown",
   "metadata": {},
   "source": [
    "### Visualising Centroids - Bar Plot "
   ]
  },
  {
   "cell_type": "code",
   "execution_count": 19,
   "metadata": {
    "scrolled": false
   },
   "outputs": [
    {
     "data": {
      "image/png": "[encoded data removed]",
      "text/plain": [
       "<Figure size 720x504 with 6 Axes>"
      ]
     },
     "metadata": {},
     "output_type": "display_data"
    }
   ],
   "source": [
    "fig, axes = plt.subplots(nrows=2, ncols=3, figsize=(10, 7))\n",
    "for idx, feat in enumerate(metric_cols):\n",
    "    ax = axes[int(idx / 3), idx % 3]\n",
    "    sns.barplot(x=centroids.index, y=feat, data=centroids, ax=ax)\n",
    "    ax.set_xlabel('')\n",
    "    ax.set_ylabel(feat)\n",
    "fig.tight_layout();"
   ]
  },
  {
   "cell_type": "markdown",
   "metadata": {},
   "source": [
    "### Visualising Centroids - Parallel Co-ordinate plot"
   ]
  },
  {
   "cell_type": "code",
   "execution_count": 20,
   "metadata": {
    "scrolled": false
   },
   "outputs": [
    {
     "data": {
      "text/plain": [
       "<Figure size 720x432 with 0 Axes>"
      ]
     },
     "execution_count": 20,
     "metadata": {},
     "output_type": "execute_result"
    },
    {
     "data": {
      "text/plain": [
       "<matplotlib.legend.Legend at 0x11ab2e198>"
      ]
     },
     "execution_count": 20,
     "metadata": {},
     "output_type": "execute_result"
    },
    {
     "data": {
      "image/png": "[encoded data removed]",
      "text/plain": [
       "<Figure size 720x432 with 1 Axes>"
      ]
     },
     "metadata": {},
     "output_type": "display_data"
    }
   ],
   "source": [
    "centroids = pd.DataFrame(kmeans.cluster_centers_, columns=scaled_univ_df.columns)\n",
    "centroids['cluster'] = ['Cluster {}'.format(i) for i in centroids.index]\n",
    "\n",
    "plt.figure(figsize=(10,6))\n",
    "fig.subplots_adjust(right=3)\n",
    "ax = parallel_coordinates(centroids, class_column='cluster', colormap='Dark2', linewidth=3)\n",
    "plt.legend(loc='center left', bbox_to_anchor=(0.95, 0.5))"
   ]
  },
  {
   "cell_type": "markdown",
   "metadata": {},
   "source": [
    "### Choosing the optimal number of clusters for K-means"
   ]
  },
  {
   "cell_type": "markdown",
   "metadata": {},
   "source": [
    "#### 1. Elbow Method"
   ]
  },
  {
   "cell_type": "markdown",
   "metadata": {},
   "source": [
    "#### Total Within Cluster Sum of Square"
   ]
  },
  {
   "cell_type": "code",
   "execution_count": 21,
   "metadata": {},
   "outputs": [
    {
     "name": "stdout",
     "output_type": "stream",
     "text": [
      "Cluster 0 (9 members): 14.88 within cluster \n",
      "Cluster 1 (4 members): 7.38 within cluster \n",
      "Cluster 2 (12 members): 22.27 within cluster \n"
     ]
    }
   ],
   "source": [
    "# calculate the distances of each data point to the cluster centers\n",
    "distances = kmeans.transform(scaled_univ_df)\n",
    "\n",
    "# reduce to the minimum squared distance of each data point to the cluster centers\n",
    "minSquaredDistances = distances.min(axis=1) ** 2\n",
    "\n",
    "# combine with cluster labels into a data frame\n",
    "df = pd.DataFrame({'squaredDistance': minSquaredDistances, 'cluster': kmeans.labels_}, \n",
    "    index=scaled_univ_df.index)\n",
    "\n",
    "# Group by cluster and print information\n",
    "for cluster, data in df.groupby('cluster'):\n",
    "    count = len(data)\n",
    "    withinClustSS = data.squaredDistance.sum()\n",
    "    print(f'Cluster {cluster} ({count} members): {withinClustSS:.2f} within cluster ')"
   ]
  },
  {
   "cell_type": "code",
   "execution_count": 25,
   "metadata": {},
   "outputs": [
    {
     "data": {
      "text/plain": [
       "[<matplotlib.lines.Line2D at 0x11b2f8be0>]"
      ]
     },
     "execution_count": 25,
     "metadata": {},
     "output_type": "execute_result"
    },
    {
     "data": {
      "text/plain": [
       "Text(0.5, 1.0, 'Optimal Clusters - Elbow Method')"
      ]
     },
     "execution_count": 25,
     "metadata": {},
     "output_type": "execute_result"
    },
    {
     "data": {
      "text/plain": [
       "Text(0.5, 0, 'Number of cluster')"
      ]
     },
     "execution_count": 25,
     "metadata": {},
     "output_type": "execute_result"
    },
    {
     "data": {
      "text/plain": [
       "Text(0, 0.5, 'SSE')"
      ]
     },
     "execution_count": 25,
     "metadata": {},
     "output_type": "execute_result"
    },
    {
     "data": {
      "image/png": "[encoded data removed]",
      "text/plain": [
       "<Figure size 864x432 with 1 Axes>"
      ]
     },
     "metadata": {},
     "output_type": "display_data"
    }
   ],
   "source": [
    "sse = {}\n",
    "for k in range(2, 10):\n",
    "    kmeans = KMeans(n_clusters=k, max_iter=1000, random_state=1).fit(scaled_univ_df)\n",
    "    scaled_univ_df[\"clusters\"] = kmeans.labels_\n",
    "    sse[k] = kmeans.inertia_ # Inertia: Sum of distances of samples to their closest cluster center\n",
    "\n",
    "fig = plt.figure(figsize=(12, 6))\n",
    "plt.plot(list(sse.keys()), list(sse.values()))\n",
    "plt.title('Optimal Clusters - Elbow Method')\n",
    "plt.xlabel(\"Number of cluster\")\n",
    "plt.ylabel(\"SSE\")\n",
    "plt.show()"
   ]
  },
  {
   "cell_type": "markdown",
   "metadata": {},
   "source": [
    "#### Average Silhouette Method"
   ]
  },
  {
   "cell_type": "code",
   "execution_count": 26,
   "metadata": {
    "scrolled": false
   },
   "outputs": [
    {
     "data": {
      "text/plain": [
       "[<matplotlib.lines.Line2D at 0x11b35d3c8>]"
      ]
     },
     "execution_count": 26,
     "metadata": {},
     "output_type": "execute_result"
    },
    {
     "data": {
      "text/plain": [
       "Text(0.5, 1.0, 'Optimal Clusters - Silhouette Method')"
      ]
     },
     "execution_count": 26,
     "metadata": {},
     "output_type": "execute_result"
    },
    {
     "data": {
      "text/plain": [
       "Text(0.5, 0, 'Number of cluster')"
      ]
     },
     "execution_count": 26,
     "metadata": {},
     "output_type": "execute_result"
    },
    {
     "data": {
      "text/plain": [
       "Text(0, 0.5, 'Avg. Silhouette Coefficient')"
      ]
     },
     "execution_count": 26,
     "metadata": {},
     "output_type": "execute_result"
    },
    {
     "data": {
      "image/png": "[encoded data removed]",
      "text/plain": [
       "<Figure size 864x432 with 1 Axes>"
      ]
     },
     "metadata": {},
     "output_type": "display_data"
    }
   ],
   "source": [
    "silhouette = {}\n",
    "for k in range(2, 10):\n",
    "    kmeans = KMeans(n_clusters=k, max_iter=1000, random_state=1).fit(scaled_univ_df)\n",
    "    scaled_univ_df[\"clusters\"] = kmeans.labels_\n",
    "    silhouette[k] = metrics.silhouette_score(scaled_univ_df, kmeans.labels_, metric='euclidean')\n",
    "\n",
    "fig = plt.figure(figsize=(12, 6))\n",
    "plt.plot(list(silhouette.keys()), list(silhouette.values()))\n",
    "plt.title('Optimal Clusters - Silhouette Method')\n",
    "plt.xlabel(\"Number of cluster\")\n",
    "plt.ylabel(\"Avg. Silhouette Coefficient\")\n",
    "plt.show()"
   ]
  },
  {
   "cell_type": "markdown",
   "metadata": {},
   "source": [
    "#### Calinski-Harabasz Index"
   ]
  },
  {
   "cell_type": "code",
   "execution_count": 24,
   "metadata": {
    "scrolled": false
   },
   "outputs": [
    {
     "data": {
      "text/plain": [
       "[<matplotlib.lines.Line2D at 0x11b0a2550>]"
      ]
     },
     "execution_count": 24,
     "metadata": {},
     "output_type": "execute_result"
    },
    {
     "data": {
      "text/plain": [
       "Text(0.5, 1.0, 'Optimal Clusters - CH Index')"
      ]
     },
     "execution_count": 24,
     "metadata": {},
     "output_type": "execute_result"
    },
    {
     "data": {
      "text/plain": [
       "Text(0.5, 0, 'Number of cluster')"
      ]
     },
     "execution_count": 24,
     "metadata": {},
     "output_type": "execute_result"
    },
    {
     "data": {
      "text/plain": [
       "Text(0, 0.5, 'CH Index')"
      ]
     },
     "execution_count": 24,
     "metadata": {},
     "output_type": "execute_result"
    },
    {
     "data": {
      "image/png": "[encoded data removed]",
      "text/plain": [
       "<Figure size 864x288 with 1 Axes>"
      ]
     },
     "metadata": {},
     "output_type": "display_data"
    }
   ],
   "source": [
    "CH = {}\n",
    "for k in range(2, 10):\n",
    "    kmeans = KMeans(n_clusters=k, max_iter=1000, random_state=1).fit(scaled_univ_df)\n",
    "    CH[k] = metrics.calinski_harabaz_score(scaled_univ_df, kmeans.labels_)\n",
    "\n",
    "fig = plt.figure(figsize=(12, 4))\n",
    "plt.plot(list(CH.keys()), list(CH.values()))\n",
    "plt.title('Optimal Clusters - CH Index')\n",
    "plt.xlabel(\"Number of cluster\")\n",
    "plt.ylabel(\"CH Index\")\n",
    "plt.show()"
   ]
  },
  {
   "cell_type": "code",
   "execution_count": null,
   "metadata": {},
   "outputs": [],
   "source": []
  }
 ],
 "metadata": {
  "kernelspec": {
   "display_name": "Python 3",
   "language": "python",
   "name": "python3"
  },
  "language_info": {
   "codemirror_mode": {
    "name": "ipython",
    "version": 3
   },
   "file_extension": ".py",
   "mimetype": "text/x-python",
   "name": "python",
   "nbconvert_exporter": "python",
   "pygments_lexer": "ipython3",
   "version": "3.7.0"
  }
 },
 "nbformat": 4,
 "nbformat_minor": 2
}
